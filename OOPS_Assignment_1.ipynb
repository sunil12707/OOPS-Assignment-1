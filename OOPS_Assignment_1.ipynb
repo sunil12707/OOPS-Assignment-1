{
  "nbformat": 4,
  "nbformat_minor": 0,
  "metadata": {
    "colab": {
      "provenance": []
    },
    "kernelspec": {
      "name": "python3",
      "display_name": "Python 3"
    },
    "language_info": {
      "name": "python"
    }
  },
  "cells": [
    {
      "cell_type": "code",
      "execution_count": null,
      "metadata": {
        "id": "tI-7uDCx_onv"
      },
      "outputs": [],
      "source": []
    },
    {
      "cell_type": "markdown",
      "source": [
        "**Q1. Explain Class and Object with respect to Object-Oriented Programming. Give a suitable example.**"
      ],
      "metadata": {
        "id": "97o6gyXv_pp0"
      }
    },
    {
      "cell_type": "markdown",
      "source": [
        "**In object-oriented programming (OOP), a class is a blueprint for creating objects. It defines the attributes (data) and methods (functions) that the objects of the class will have. An object, on the other hand, is an instance of a class. It represents a specific entity or instance in your program.**"
      ],
      "metadata": {
        "id": "p5nnpevI_4s3"
      }
    },
    {
      "cell_type": "code",
      "source": [
        "class Car:\n",
        "    def __init__(self, make, model, year):\n",
        "        self.make = make\n",
        "        self.model = model\n",
        "        self.year = year\n",
        "\n",
        "    def display_info(self):\n",
        "        print(f\"Car: {self.make} {self.model} ({self.year})\")\n",
        "\n",
        "# Creating objects of the Car class\n",
        "car1 = Car(\"Toyota\", \"Camry\", 2020)\n",
        "car2 = Car(\"Honda\", \"Civic\", 2018)\n",
        "\n",
        "# Accessing attributes and methods of objects\n",
        "car1.display_info()  # Output: Car: Toyota Camry (2020)\n",
        "car2.display_info()  # Output: Car: Honda Civic (2018)\n"
      ],
      "metadata": {
        "colab": {
          "base_uri": "https://localhost:8080/"
        },
        "id": "uLL7OStB_x97",
        "outputId": "5d55b5fa-e038-473a-a91a-11574a3478bc"
      },
      "execution_count": 1,
      "outputs": [
        {
          "output_type": "stream",
          "name": "stdout",
          "text": [
            "Car: Toyota Camry (2020)\n",
            "Car: Honda Civic (2018)\n"
          ]
        }
      ]
    },
    {
      "cell_type": "code",
      "source": [],
      "metadata": {
        "id": "Fwi8eYga_yA2"
      },
      "execution_count": null,
      "outputs": []
    },
    {
      "cell_type": "markdown",
      "source": [
        "**Q2. Name the four pillars of OOPs.**"
      ],
      "metadata": {
        "id": "_2AWR_QvABld"
      }
    },
    {
      "cell_type": "markdown",
      "source": [],
      "metadata": {
        "id": "ijGPoE2MASIr"
      }
    },
    {
      "cell_type": "markdown",
      "source": [
        "**The four pillars of object-oriented programming are:\n",
        "\n",
        "Encapsulation: It refers to the bundling of data (attributes) and methods (functions) that operate on the data into a single unit called a class. It allows data hiding and access control to protect the integrity of the data.\n",
        "\n",
        "Abstraction: Abstraction involves hiding the complex implementation details and showing only the necessary features of an object. It helps in managing complexity by providing a simplified view of the objects.\n",
        "\n",
        "Inheritance: Inheritance is a mechanism in which a new class inherits properties and behaviors (attributes and methods) from an existing class. It promotes code reusability and establishes a hierarchical relationship between classes.\n",
        "\n",
        "Polymorphism: Polymorphism allows objects to be treated as instances of their parent class. It allows a single interface to be used for different data types or classes. Polymorphism can be achieved through method overloading and method overriding.t**"
      ],
      "metadata": {
        "id": "sEATlhS4AJXf"
      }
    },
    {
      "cell_type": "markdown",
      "source": [
        "**Q3. Explain why the __init__() function is used. Give a suitable example.**"
      ],
      "metadata": {
        "id": "CKRL_pR4ATqg"
      }
    },
    {
      "cell_type": "markdown",
      "source": [
        "**The __init__() function is a special method in Python classes that is automatically called when a new object is instantiated. It is used to initialize the object's attributes with values provided during object creation**"
      ],
      "metadata": {
        "id": "lMlZDMjBAdU2"
      }
    },
    {
      "cell_type": "code",
      "source": [
        "class Person:\n",
        "    def __init__(self, name, age):\n",
        "        self.name = name\n",
        "        self.age = age\n",
        "\n",
        "    def display_info(self):\n",
        "        print(f\"Name: {self.name}, Age: {self.age}\")\n",
        "\n",
        "# Creating objects of the Person class\n",
        "person1 = Person(\"John\", 30)\n",
        "person2 = Person(\"Alice\", 25)\n",
        "\n",
        "person1.display_info()  # Output: Name: John, Age: 30\n",
        "person2.display_info()  # Output: Name: Alice, Age: 25\n"
      ],
      "metadata": {
        "colab": {
          "base_uri": "https://localhost:8080/"
        },
        "id": "T3JNMdoV_yDt",
        "outputId": "88cb6ce7-5779-4a64-fcd4-8cac4ccd6204"
      },
      "execution_count": 2,
      "outputs": [
        {
          "output_type": "stream",
          "name": "stdout",
          "text": [
            "Name: John, Age: 30\n",
            "Name: Alice, Age: 25\n"
          ]
        }
      ]
    },
    {
      "cell_type": "markdown",
      "source": [
        "**Q4. Why self is used in OOPs?**"
      ],
      "metadata": {
        "id": "f9azjPleAk3W"
      }
    },
    {
      "cell_type": "markdown",
      "source": [
        "**In object-oriented programming, self is a reference to the current instance of a class. It is used to access variables and methods of the current object within the class.**"
      ],
      "metadata": {
        "id": "ve6VHH-tAvGH"
      }
    },
    {
      "cell_type": "markdown",
      "source": [
        "**Q5. What is inheritance? Give an example for each type of inheritance.**"
      ],
      "metadata": {
        "id": "sbtl9062A3O8"
      }
    },
    {
      "cell_type": "markdown",
      "source": [
        "**Inheritance is a mechanism in object-oriented programming where a new class (called a subclass or derived class) is created by inheriting attributes and methods from an existing class (called a superclass or base class).**"
      ],
      "metadata": {
        "id": "xu6FY7BqA8wH"
      }
    },
    {
      "cell_type": "code",
      "source": [
        "# Single Inheritance:"
      ],
      "metadata": {
        "id": "fl_sff5C_yGc"
      },
      "execution_count": null,
      "outputs": []
    },
    {
      "cell_type": "code",
      "source": [
        "class Animal:\n",
        "    def speak(self):\n",
        "        print(\"Animal speaks\")\n",
        "\n",
        "class Dog(Animal):\n",
        "    def bark(self):\n",
        "        print(\"Dog barks\")\n",
        "\n",
        "# Usage\n",
        "dog = Dog()\n",
        "dog.speak()  # Output: Animal speaks\n",
        "dog.bark()   # Output: Dog barks\n"
      ],
      "metadata": {
        "colab": {
          "base_uri": "https://localhost:8080/"
        },
        "id": "4oDLCzie_yJX",
        "outputId": "3a23d24f-499d-42f4-d803-cba170596cb3"
      },
      "execution_count": 3,
      "outputs": [
        {
          "output_type": "stream",
          "name": "stdout",
          "text": [
            "Animal speaks\n",
            "Dog barks\n"
          ]
        }
      ]
    },
    {
      "cell_type": "code",
      "source": [
        "# Multiple Inheritance:\n",
        "class A:\n",
        "    def method_a(self):\n",
        "        print(\"Method A\")\n",
        "\n",
        "class B:\n",
        "    def method_b(self):\n",
        "        print(\"Method B\")\n",
        "\n",
        "class C(A, B):\n",
        "    def method_c(self):\n",
        "        print(\"Method C\")\n",
        "\n",
        "# Usage\n",
        "obj_c = C()\n",
        "obj_c.method_a()  # Output: Method A\n",
        "obj_c.method_b()  # Output: Method B\n",
        "obj_c.method_c()  # Output: Method C\n"
      ],
      "metadata": {
        "colab": {
          "base_uri": "https://localhost:8080/"
        },
        "id": "3hlKBt2B_yMp",
        "outputId": "5125a6cf-9801-4787-edae-7065279db6d1"
      },
      "execution_count": 4,
      "outputs": [
        {
          "output_type": "stream",
          "name": "stdout",
          "text": [
            "Method A\n",
            "Method B\n",
            "Method C\n"
          ]
        }
      ]
    },
    {
      "cell_type": "code",
      "source": [
        "# Multilevel Inheritance:\n",
        "class A:\n",
        "    def method_a(self):\n",
        "        print(\"Method A\")\n",
        "\n",
        "class B(A):\n",
        "    def method_b(self):\n",
        "        print(\"Method B\")\n",
        "\n",
        "class C(B):\n",
        "    def method_c(self):\n",
        "        print(\"Method C\")\n",
        "\n",
        "# Usage\n",
        "obj_c = C()\n",
        "obj_c.method_a()  # Output: Method A\n",
        "obj_c.method_b()  # Output: Method B\n",
        "obj_c.method_c()  # Output: Method C\n"
      ],
      "metadata": {
        "colab": {
          "base_uri": "https://localhost:8080/"
        },
        "id": "OduJXpyABMh_",
        "outputId": "1bc072f2-32f8-4df1-cc59-0745ea861b2a"
      },
      "execution_count": 6,
      "outputs": [
        {
          "output_type": "stream",
          "name": "stdout",
          "text": [
            "Method A\n",
            "Method B\n",
            "Method C\n"
          ]
        }
      ]
    },
    {
      "cell_type": "code",
      "source": [
        "# Hierarchical Inheritance:\n",
        "class Parent:\n",
        "    def common(self):\n",
        "        print(\"Parent's method\")\n",
        "\n",
        "class Child1(Parent):\n",
        "    def specific(self):\n",
        "        print(\"Child1's method\")\n",
        "\n",
        "class Child2(Parent):\n",
        "    def specific(self):\n",
        "        print(\"Child2's method\")\n",
        "\n",
        "# Usage\n",
        "child1 = Child1()\n",
        "child2 = Child2()\n",
        "\n",
        "child1.common()   # Output: Parent's method\n",
        "child1.specific() # Output: Child1's method\n",
        "\n",
        "child2.common()   # Output: Parent's method\n",
        "child2.specific() # Output: Child2's method\n"
      ],
      "metadata": {
        "colab": {
          "base_uri": "https://localhost:8080/"
        },
        "id": "rO2ODAzGBPz6",
        "outputId": "d9edde2f-e0a7-4731-c0af-9d58d15a5f02"
      },
      "execution_count": 7,
      "outputs": [
        {
          "output_type": "stream",
          "name": "stdout",
          "text": [
            "Parent's method\n",
            "Child1's method\n",
            "Parent's method\n",
            "Child2's method\n"
          ]
        }
      ]
    },
    {
      "cell_type": "code",
      "source": [],
      "metadata": {
        "id": "0e2uh_mCBiWi"
      },
      "execution_count": null,
      "outputs": []
    }
  ]
}